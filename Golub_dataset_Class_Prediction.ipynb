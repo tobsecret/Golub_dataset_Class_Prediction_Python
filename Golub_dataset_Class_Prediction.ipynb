{
 "cells": [
  {
   "cell_type": "code",
   "execution_count": 95,
   "metadata": {
    "collapsed": false
   },
   "outputs": [],
   "source": [
    "%matplotlib inline\n",
    "import pandas as pd\n",
    "import numpy as np\n",
    "import matplotlib.pyplot as plt\n",
    "import seaborn as sns\n",
    "from sklearn.neighbors import KNeighborsClassifier\n",
    "from sklearn.ensemble import BaggingClassifier\n",
    "from scipy.stats import ttest_ind\n",
    "\n",
    "\n",
    "\n"
   ]
  },
  {
   "cell_type": "code",
   "execution_count": 96,
   "metadata": {
    "collapsed": false
   },
   "outputs": [
    {
     "data": {
      "text/html": [
       "<div>\n",
       "<table border=\"1\" class=\"dataframe\">\n",
       "  <thead>\n",
       "    <tr style=\"text-align: right;\">\n",
       "      <th></th>\n",
       "      <th>Classifier</th>\n",
       "      <th>Dataset</th>\n",
       "      <th>Training_Error</th>\n",
       "      <th>Testing_Error</th>\n",
       "    </tr>\n",
       "  </thead>\n",
       "  <tbody>\n",
       "    <tr>\n",
       "      <th>0</th>\n",
       "      <td>1</td>\n",
       "      <td>2</td>\n",
       "      <td>5</td>\n",
       "      <td>6</td>\n",
       "    </tr>\n",
       "  </tbody>\n",
       "</table>\n",
       "</div>"
      ],
      "text/plain": [
       "  Classifier Dataset Training_Error Testing_Error\n",
       "0          1       2              5             6"
      ]
     },
     "execution_count": 96,
     "metadata": {},
     "output_type": "execute_result"
    }
   ],
   "source": [
    "results = pd.DataFrame.from_dict({'Classifier':'1', 'Dataset':'2', 'Training_Error':5, 'Testing_Error':6}, orient='index').T\n",
    "results"
   ]
  },
  {
   "cell_type": "code",
   "execution_count": 97,
   "metadata": {
    "collapsed": false
   },
   "outputs": [
    {
     "name": "stdout",
     "output_type": "stream",
     "text": [
      "Microsoft Windows [Version 6.1.7601]\r\n",
      "Copyright (c) 2009 Microsoft Corporation. Alle Rechte vorbehalten.\r\n",
      "\r\n",
      "(PDSH_mod) C:\\Users\\Tobsecret\\Desktop\\Lectures\\Topics in Bioinformatics\\Module 2 Molecular Classification of Cancer\\Golub_dataset_Class_Prediction_Python\r\n",
      "> dir\n",
      " Datentr„ger in Laufwerk C: ist Acer\r\n",
      " Volumeseriennummer: E6C9-99F6\r\n",
      "\r\n",
      " Verzeichnis von C:\\Users\\Tobsecret\\Desktop\\Lectures\\Topics in Bioinformatics\\Module 2 Molecular Classification of Cancer\\Golub_dataset_Class_Prediction_Python\r\n",
      "\r\n",
      "21.02.2017  16:13    <DIR>          .\r\n",
      "21.02.2017  16:13    <DIR>          ..\r\n",
      "13.02.2017  21:21    <DIR>          .ipynb_checkpoints\r\n",
      "13.02.2017  21:46         1.860.352 data_set_ALL_AML_independent.tsv\r\n",
      "14.02.2017  11:02         2.046.810 data_set_ALL_AML_train.tsv\r\n",
      "20.02.2017  16:39             6.667 environment.txt\r\n",
      "21.02.2017  16:13           231.342 Golub_dataset_Class_Prediction.ipynb\r\n",
      "20.02.2017  16:12             1.087 LICENSE\r\n",
      "21.02.2017  10:50               986 README.md\r\n",
      "13.02.2017  22:18               510 table_ALL_AML_samples.txt\r\n",
      "               7 Datei(en),      4.147.754 Bytes\r\n",
      "               3 Verzeichnis(se), 341.275.729.920 Bytes frei\r\n",
      "\r\n",
      "(PDSH_mod) C:\\Users\\Tobsecret\\Desktop\\Lectures\\Topics in Bioinformatics\\Module 2 Molecular Classification of Cancer\\Golub_dataset_Class_Prediction_Python\r\n",
      "> "
     ]
    }
   ],
   "source": [
    "%%cmd \n",
    "dir"
   ]
  },
  {
   "cell_type": "markdown",
   "metadata": {},
   "source": [
    "#### Reading in the datasets\n",
    "We'll read in the test into the variable **test** and the training dataset into the variable **train**."
   ]
  },
  {
   "cell_type": "code",
   "execution_count": 98,
   "metadata": {
    "collapsed": true
   },
   "outputs": [],
   "source": [
    "test = pd.read_csv('data_set_ALL_AML_independent.tsv', sep='\\t', header=0, index_col=0)"
   ]
  },
  {
   "cell_type": "code",
   "execution_count": 99,
   "metadata": {
    "collapsed": true
   },
   "outputs": [],
   "source": [
    "train = pd.read_csv('data_set_ALL_AML_train.tsv', sep='\\t', header=0, index_col=0)\n",
    "train.drop(train.columns[len(train.columns)-1], axis=1, inplace=True)"
   ]
  },
  {
   "cell_type": "code",
   "execution_count": 100,
   "metadata": {
    "collapsed": false
   },
   "outputs": [
    {
     "name": "stderr",
     "output_type": "stream",
     "text": [
      "C:\\Users\\Tobsecret\\Anaconda3\\envs\\PDSH_mod\\lib\\site-packages\\pandas\\core\\indexing.py:132: SettingWithCopyWarning: \n",
      "A value is trying to be set on a copy of a slice from a DataFrame\n",
      "\n",
      "See the caveats in the documentation: http://pandas.pydata.org/pandas-docs/stable/indexing.html#indexing-view-versus-copy\n",
      "  self._setitem_with_indexer(indexer, value)\n"
     ]
    }
   ],
   "source": [
    "#The sample_table contains the labels AML/ ALL \n",
    "sample_table = pd.read_csv('table_ALL_AML_samples.txt', sep='\\t')\n",
    "sample_table['Idealized'] = 0\n",
    "sample_table['Idealized'].loc[sample_table['ALL/AML']=='ALL'] = 1\n"
   ]
  },
  {
   "cell_type": "markdown",
   "metadata": {},
   "source": [
    "##### Normalizing the Data\n",
    "We normalize each element x by subtracting the row minimum and dividing by (row maximum minus row minimum).\n",
    "\n",
    "x = (x - row_min) / (row_max - row_min)"
   ]
  },
  {
   "cell_type": "code",
   "execution_count": 101,
   "metadata": {
    "collapsed": false
   },
   "outputs": [],
   "source": [
    "norm_train = train.iloc[:,1::2].apply(lambda x: (x - np.min(x))/(np.max(x)-np.min(x)), axis=1)"
   ]
  },
  {
   "cell_type": "code",
   "execution_count": 102,
   "metadata": {
    "collapsed": false
   },
   "outputs": [],
   "source": [
    "norm_test = test.iloc[:,1::2].apply(lambda x: (x - np.min(x))/(np.max(x)-np.min(x)), axis=1)\n",
    "norm_test = norm_test.reindex_axis(sorted(norm_test.columns, key=int), axis=1)"
   ]
  },
  {
   "cell_type": "code",
   "execution_count": 103,
   "metadata": {
    "collapsed": false
   },
   "outputs": [],
   "source": [
    "# Sorting the columns numerically\n",
    "norm_train = norm_train.reindex_axis(sorted(list(norm_train.columns.values), key=int), axis=1)\n"
   ]
  },
  {
   "cell_type": "markdown",
   "metadata": {},
   "source": [
    "#### K-nearest neighbours\n",
    "We will try out various different selections of the data and train a separate model for each.\n",
    "Let's start with the whole data set.\n"
   ]
  },
  {
   "cell_type": "code",
   "execution_count": 104,
   "metadata": {
    "collapsed": false
   },
   "outputs": [],
   "source": [
    "norm_train_transp = norm_train.T"
   ]
  },
  {
   "cell_type": "code",
   "execution_count": 105,
   "metadata": {
    "collapsed": false
   },
   "outputs": [
    {
     "data": {
      "text/plain": [
       "KNeighborsClassifier(algorithm='auto', leaf_size=30, metric='minkowski',\n",
       "           metric_params=None, n_jobs=1, n_neighbors=5, p=2,\n",
       "           weights='uniform')"
      ]
     },
     "execution_count": 105,
     "metadata": {},
     "output_type": "execute_result"
    }
   ],
   "source": [
    "neigh = KNeighborsClassifier()\n",
    "neigh.fit(norm_train_transp, sample_table.iloc[:38,1:2].values.reshape(38))"
   ]
  },
  {
   "cell_type": "markdown",
   "metadata": {},
   "source": [
    "Let's score on the training data set to see whether our model is reasonably trained."
   ]
  },
  {
   "cell_type": "code",
   "execution_count": 106,
   "metadata": {
    "collapsed": false
   },
   "outputs": [
    {
     "data": {
      "text/plain": [
       "0.94736842105263153"
      ]
     },
     "execution_count": 106,
     "metadata": {},
     "output_type": "execute_result"
    }
   ],
   "source": [
    "neigh.score(norm_train.T, sample_table.iloc[:38,1:2].values.reshape(38))"
   ]
  },
  {
   "cell_type": "markdown",
   "metadata": {},
   "source": [
    "Let's score on the test set:"
   ]
  },
  {
   "cell_type": "code",
   "execution_count": 107,
   "metadata": {
    "collapsed": false
   },
   "outputs": [
    {
     "data": {
      "text/plain": [
       "0.70588235294117652"
      ]
     },
     "execution_count": 107,
     "metadata": {},
     "output_type": "execute_result"
    }
   ],
   "source": [
    "neigh.score(norm_test.T, sample_table.iloc[38:, 1:2].values.reshape(34))"
   ]
  },
  {
   "cell_type": "code",
   "execution_count": 108,
   "metadata": {
    "collapsed": false
   },
   "outputs": [],
   "source": [
    "results = results.append(pd.Series({'Classifier':'K-nearest Neighbours', 'Dataset':'Normalized', \n",
    "                          'Training_Error':neigh.score(norm_train.T, sample_table.iloc[:38,1:2].values.reshape(38)), \n",
    "                          'Testing_Error':neigh.score(norm_test.T, sample_table.iloc[38:, 1:2].values.reshape(34))}),\n",
    "              ignore_index=True)"
   ]
  },
  {
   "cell_type": "markdown",
   "metadata": {},
   "source": [
    "#### K-nearest Neighbours Bagging Ensemble\n",
    "In the following lines we'll try out the BaggingClassifier from scikit-learn and we will populate it with a K-nearest Neighbours Classifier."
   ]
  },
  {
   "cell_type": "code",
   "execution_count": 109,
   "metadata": {
    "collapsed": false,
    "scrolled": true
   },
   "outputs": [
    {
     "data": {
      "text/plain": [
       "BaggingClassifier(base_estimator=KNeighborsClassifier(algorithm='auto', leaf_size=30, metric='minkowski',\n",
       "           metric_params=None, n_jobs=1, n_neighbors=5, p=2,\n",
       "           weights='uniform'),\n",
       "         bootstrap=True, bootstrap_features=False, max_features=0.5,\n",
       "         max_samples=0.5, n_estimators=10, n_jobs=1, oob_score=False,\n",
       "         random_state=None, verbose=0, warm_start=False)"
      ]
     },
     "execution_count": 109,
     "metadata": {},
     "output_type": "execute_result"
    }
   ],
   "source": [
    "bagging_neigh = BaggingClassifier(KNeighborsClassifier(), \n",
    "                                 max_samples=0.5, max_features=0.5)\n",
    "bagging_neigh.fit(norm_train.T, sample_table.iloc[:38,1:2].values.reshape(38))\n",
    "#"
   ]
  },
  {
   "cell_type": "code",
   "execution_count": 110,
   "metadata": {
    "collapsed": false
   },
   "outputs": [],
   "source": [
    "results = results.append(pd.Series({'Classifier':'Bagging Ensemble of K-nearest Neighbours', 'Dataset':'Normalized', \n",
    "                                    'Training_Error':bagging_neigh.score(norm_train.T, sample_table.iloc[:38,1:2].values.reshape(38)), \n",
    "                                    'Testing_Error':bagging_neigh.score(norm_test.T, sample_table.iloc[38:, 1:2].values.reshape(34))})\n",
    "                         ,ignore_index=True)"
   ]
  },
  {
   "cell_type": "markdown",
   "metadata": {},
   "source": [
    "#### Non-normalized Data\n",
    "Let's try the same things with only a subset of genes and no normalization besides setting all values below 0 to 1."
   ]
  },
  {
   "cell_type": "code",
   "execution_count": 111,
   "metadata": {
    "collapsed": false
   },
   "outputs": [],
   "source": [
    "non_negative_train = train.iloc[:,1::2].clip_lower(1)\n",
    "non_negative_train \n",
    "non_negative_test = test.iloc[:, 1::2].clip_lower(1)"
   ]
  },
  {
   "cell_type": "markdown",
   "metadata": {},
   "source": [
    "To separate the rubbish genes from the more predictive genes, we are doing independent sample Welch's t-tests for all genes, comparing the value for each gene in the AML samples to that value for the same gene in the ALL samples."
   ]
  },
  {
   "cell_type": "code",
   "execution_count": 112,
   "metadata": {
    "collapsed": true
   },
   "outputs": [],
   "source": [
    "#The following line computes the independent t-tests between the AML and ALL samples for every gene.\n",
    "non_negative_train_ttest_pvals = non_negative_train.apply(lambda x: 1-ttest_ind(x.iloc[:26].values.reshape(26,1), x.iloc[26:].values.reshape(12,1), equal_var=False).pvalue , axis=1).iloc[:,:1]"
   ]
  },
  {
   "cell_type": "markdown",
   "metadata": {},
   "source": [
    "The violin plot below shows the distribution of the results of the ttests. The values plotted are 1-pvalue for all the genes.\n",
    "One can see that most genes actually have pretty good p-values. "
   ]
  },
  {
   "cell_type": "code",
   "execution_count": 113,
   "metadata": {
    "collapsed": false
   },
   "outputs": [
    {
     "data": {
      "image/png": "[encoded data removed]",
      "text/plain": [
       "<matplotlib.figure.Figure at 0xd954710>"
      ]
     },
     "metadata": {},
     "output_type": "display_data"
    }
   ],
   "source": [
    "sns.violinplot( y=\"1\", data=non_negative_train_ttest_pvals);\n"
   ]
  },
  {
   "cell_type": "markdown",
   "metadata": {},
   "source": [
    "Now we'll select only the top 3000 genes based on the 1-pvalue scores, the lowest genesin this selection having a value of around 0.8 "
   ]
  },
  {
   "cell_type": "code",
   "execution_count": 114,
   "metadata": {
    "collapsed": false
   },
   "outputs": [],
   "source": [
    "top3000_ttest_mask = non_negative_train_ttest_pvals.sort_values('1', axis=0, ascending=False).head(3000).index"
   ]
  },
  {
   "cell_type": "code",
   "execution_count": 115,
   "metadata": {
    "collapsed": true
   },
   "outputs": [],
   "source": [
    "top3000_non_negative_train = non_negative_train.loc[top3000_ttest_mask]\n",
    "top3000_non_negative_test = non_negative_test.loc[top3000_ttest_mask]"
   ]
  },
  {
   "cell_type": "code",
   "execution_count": 116,
   "metadata": {
    "collapsed": false
   },
   "outputs": [
    {
     "name": "stdout",
     "output_type": "stream",
     "text": [
      "Training Prediction Performance:  0.973684210526  Testing Prediction Performance:  0.617647058824\n"
     ]
    }
   ],
   "source": [
    "topneigh = KNeighborsClassifier()\n",
    "topneigh.fit(top3000_non_negative_train.T, sample_table.iloc[:38,1:2].values.reshape(38))\n",
    "print('Training Prediction Performance: ', \n",
    "      topneigh.score(top3000_non_negative_train.T, sample_table.iloc[:38,1:2].values.reshape(38)),\n",
    "      ' Testing Prediction Performance: ',\n",
    "      topneigh.score(top3000_non_negative_test.T, sample_table.iloc[38:, 1:2].values.reshape(34)))\n",
    "results = results.append(pd.Series({'Classifier':'K-nearest Neighbours', 'Dataset':'Non-negative', \n",
    "                          'Training_Error':topneigh.score(top3000_non_negative_train.T, sample_table.iloc[:38, 1:2].values.reshape(38)), \n",
    "                          'Testing_Error' :topneigh.score(top3000_non_negative_test.T,  sample_table.iloc[38:, 1:2].values.reshape(34))}),\n",
    "                        ignore_index=True)"
   ]
  },
  {
   "cell_type": "code",
   "execution_count": 117,
   "metadata": {
    "collapsed": false
   },
   "outputs": [
    {
     "name": "stdout",
     "output_type": "stream",
     "text": [
      "Training Prediction Performance:  0.921052631579  Testing Prediction Performance:  0.529411764706\n"
     ]
    }
   ],
   "source": [
    "top_bagging_neigh = BaggingClassifier(KNeighborsClassifier(), \n",
    "                                 max_samples=0.5, max_features=0.5)\n",
    "top_bagging_neigh.fit(top3000_non_negative_train.T, sample_table.iloc[:38,1:2].values.reshape(38))\n",
    "print('Training Prediction Performance: ', \n",
    "      top_bagging_neigh.score(top3000_non_negative_train.T, sample_table.iloc[:38,1:2].values.reshape(38)),\n",
    "      ' Testing Prediction Performance: ',\n",
    "      top_bagging_neigh.score(top3000_non_negative_test.T, sample_table.iloc[38:, 1:2].values.reshape(34)))\n",
    "\n",
    "results = results.append(pd.Series({'Classifier':'Bagging Ensemble of K-nearest Neighbours', 'Dataset':'Non-negative', \n",
    "                          'Training_Error':top_bagging_neigh.score(top3000_non_negative_train.T, sample_table.iloc[:38, 1:2].values.reshape(38)), \n",
    "                          'Testing_Error' :top_bagging_neigh.score(top3000_non_negative_test.T,  sample_table.iloc[38:, 1:2].values.reshape(34))}),\n",
    "                        ignore_index=True)"
   ]
  },
  {
   "cell_type": "code",
   "execution_count": 118,
   "metadata": {
    "collapsed": false
   },
   "outputs": [
    {
     "name": "stdout",
     "output_type": "stream",
     "text": [
      "Training Prediction Performance:  0.947368421053  Testing Prediction Performance:  0.588235294118\n"
     ]
    }
   ],
   "source": [
    "top_bagging_tree = BaggingClassifier(max_samples=0.5, max_features=0.5)\n",
    "\n",
    "top_bagging_tree.fit(top3000_non_negative_train.T, sample_table.iloc[:38,1:2].values.reshape(38))\n",
    "print('Training Prediction Performance: ', \n",
    "      top_bagging_tree.score(top3000_non_negative_train.T, sample_table.iloc[:38,1:2].values.reshape(38)),\n",
    "      ' Testing Prediction Performance: ',\n",
    "      top_bagging_tree.score(top3000_non_negative_test.T, sample_table.iloc[38:, 1:2].values.reshape(34)))\n",
    "results = results.append(pd.Series({'Classifier':'Bagging Ensemble of Decision Trees', 'Dataset':'Non-negative', \n",
    "                          'Training_Error': top_bagging_tree.score(top3000_non_negative_train.T, sample_table.iloc[:38,1:2].values.reshape(38)), \n",
    "                          'Testing_Error' :top_bagging_tree.score(top3000_non_negative_test.T, sample_table.iloc[38:, 1:2].values.reshape(34))}),\n",
    "                        ignore_index=True)"
   ]
  },
  {
   "cell_type": "code",
   "execution_count": 119,
   "metadata": {
    "collapsed": false
   },
   "outputs": [],
   "source": [
    " results = results.iloc[1:,:]"
   ]
  },
  {
   "cell_type": "code",
   "execution_count": 120,
   "metadata": {
    "collapsed": false
   },
   "outputs": [
    {
     "data": {
      "text/html": [
       "<div>\n",
       "<table border=\"1\" class=\"dataframe\">\n",
       "  <thead>\n",
       "    <tr style=\"text-align: right;\">\n",
       "      <th></th>\n",
       "      <th>Classifier</th>\n",
       "      <th>Dataset</th>\n",
       "      <th>Training_Error</th>\n",
       "      <th>Testing_Error</th>\n",
       "    </tr>\n",
       "  </thead>\n",
       "  <tbody>\n",
       "    <tr>\n",
       "      <th>1</th>\n",
       "      <td>K-nearest Neighbours</td>\n",
       "      <td>Normalized</td>\n",
       "      <td>0.0526316</td>\n",
       "      <td>0.294118</td>\n",
       "    </tr>\n",
       "    <tr>\n",
       "      <th>2</th>\n",
       "      <td>Bagging Ensemble of K-nearest Neighbours</td>\n",
       "      <td>Normalized</td>\n",
       "      <td>0.157895</td>\n",
       "      <td>0.323529</td>\n",
       "    </tr>\n",
       "    <tr>\n",
       "      <th>3</th>\n",
       "      <td>K-nearest Neighbours</td>\n",
       "      <td>Non-negative</td>\n",
       "      <td>0.0263158</td>\n",
       "      <td>0.382353</td>\n",
       "    </tr>\n",
       "    <tr>\n",
       "      <th>4</th>\n",
       "      <td>Bagging Ensemble of K-nearest Neighbours</td>\n",
       "      <td>Non-negative</td>\n",
       "      <td>0.0789474</td>\n",
       "      <td>0.470588</td>\n",
       "    </tr>\n",
       "    <tr>\n",
       "      <th>5</th>\n",
       "      <td>Bagging Ensemble of Decision Trees</td>\n",
       "      <td>Non-negative</td>\n",
       "      <td>0.0526316</td>\n",
       "      <td>0.411765</td>\n",
       "    </tr>\n",
       "  </tbody>\n",
       "</table>\n",
       "</div>"
      ],
      "text/plain": [
       "                                 Classifier       Dataset Training_Error  \\\n",
       "1                      K-nearest Neighbours    Normalized      0.0526316   \n",
       "2  Bagging Ensemble of K-nearest Neighbours    Normalized       0.157895   \n",
       "3                      K-nearest Neighbours  Non-negative      0.0263158   \n",
       "4  Bagging Ensemble of K-nearest Neighbours  Non-negative      0.0789474   \n",
       "5        Bagging Ensemble of Decision Trees  Non-negative      0.0526316   \n",
       "\n",
       "  Testing_Error  \n",
       "1      0.294118  \n",
       "2      0.323529  \n",
       "3      0.382353  \n",
       "4      0.470588  \n",
       "5      0.411765  "
      ]
     },
     "execution_count": 120,
     "metadata": {},
     "output_type": "execute_result"
    }
   ],
   "source": [
    "results['Training_Error'] = 1- results['Training_Error']\n",
    "results['Testing_Error']  = 1-results['Testing_Error']\n",
    "results"
   ]
  },
  {
   "cell_type": "markdown",
   "metadata": {},
   "source": [
    "#### Plotting the Results\n",
    "Below are plots of the different combinations of data sets and classifiers.\n",
    "The data sets are *non-negative*, i.e. negative expression values are set to 1 and only the top 3000 genes were considered, and *normalized*, i.e. for each expression value x:\n",
    "\n",
    "x --> (x - row_min) / (row_max - row_min)"
   ]
  },
  {
   "cell_type": "code",
   "execution_count": 121,
   "metadata": {
    "collapsed": false
   },
   "outputs": [
    {
     "data": {
      "image/png": "[encoded data removed]",
      "text/plain": [
       "<matplotlib.figure.Figure at 0xdce02e8>"
      ]
     },
     "metadata": {},
     "output_type": "display_data"
    },
    {
     "data": {
      "image/png": "[encoded data removed]",
      "text/plain": [
       "<matplotlib.figure.Figure at 0xdf9b780>"
      ]
     },
     "metadata": {},
     "output_type": "display_data"
    }
   ],
   "source": [
    "ax = sns.factorplot(x='Dataset', y='Training_Error', kind='bar', hue='Classifier', data=results)\n",
    "ax = sns.factorplot(x='Dataset', y='Testing_Error', kind='bar', hue='Classifier', data=results)\n"
   ]
  },
  {
   "cell_type": "markdown",
   "metadata": {},
   "source": [
    "As we can see, none of the classifiers did as well as the one done by Golub. The classifiers trained on the normalized full training data did better, with the K-nearest neighbours outperforming the bagging classifier with K-nearest neighbours.\n",
    "If one was to continue the analysis, one would test more different combinations of normalizing/ narrowing down the datasets and test more combinations of classifiers and train them on a subset of the training data and test them on an independent subset of training data to pick the best classifier and use that one to score on the test data."
   ]
  },
  {
   "cell_type": "code",
   "execution_count": null,
   "metadata": {
    "collapsed": true
   },
   "outputs": [],
   "source": []
  }
 ],
 "metadata": {
  "anaconda-cloud": {},
  "kernelspec": {
   "display_name": "Python [conda env:PDSH_mod]",
   "language": "python",
   "name": "conda-env-PDSH_mod-py"
  },
  "language_info": {
   "codemirror_mode": {
    "name": "ipython",
    "version": 3
   },
   "file_extension": ".py",
   "mimetype": "text/x-python",
   "name": "python",
   "nbconvert_exporter": "python",
   "pygments_lexer": "ipython3",
   "version": "3.5.2"
  }
 },
 "nbformat": 4,
 "nbformat_minor": 2
}
